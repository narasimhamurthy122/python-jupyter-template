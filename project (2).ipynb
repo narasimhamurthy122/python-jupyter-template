{
 "cells": [
  {
   "cell_type": "markdown",
   "id": "42205b86-5e9f-4953-abb7-4189563a6deb",
   "metadata": {},
   "source": [
    "# GenAI Project"
   ]
  },
  {
   "cell_type": "code",
   "execution_count": 1,
   "id": "790981cf-d981-4abf-820d-304e68b2493a",
   "metadata": {},
   "outputs": [],
   "source": [
    "from langchain_community.document_loaders import PyPDFLoader\n",
    "\n",
    "loader = PyPDFLoader('tcsreport1.pdf')"
   ]
  },
  {
   "cell_type": "code",
   "execution_count": 2,
   "id": "6769f485-9f1a-4302-a816-19f7c1603766",
   "metadata": {},
   "outputs": [
    {
     "data": {
      "text/plain": [
       "<langchain_community.document_loaders.pdf.PyPDFLoader at 0x1db5f1b46e0>"
      ]
     },
     "execution_count": 2,
     "metadata": {},
     "output_type": "execute_result"
    }
   ],
   "source": [
    "loader"
   ]
  },
  {
   "cell_type": "code",
   "execution_count": 3,
   "id": "f1eb9057-6062-4f4f-8d45-412d89d74542",
   "metadata": {},
   "outputs": [],
   "source": [
    "#let us see methods of pypdfloader\n",
    "documents = loader.load()\n"
   ]
  },
  {
   "cell_type": "code",
   "execution_count": 4,
   "id": "b99b0246-1258-4bd2-8b22-eb4e51256cf1",
   "metadata": {},
   "outputs": [
    {
     "data": {
      "text/plain": [
       "Document(metadata={'producer': 'Adobe PDF Library 17.0', 'creator': 'Adobe InDesign 20.3 (Windows)', 'creationdate': '2025-05-27T23:03:32+05:30', 'moddate': '2025-06-09T17:12:34+00:00', 'subject': 'The TCS’ FY 2024-25 (FY 2025) Integrated Annual Report highlights the rapidly changing world and role of technology in addressing business problems.', 'title': 'TCS Integrated Annual Report 2024-25', 'trapped': '/false', 'source': 'tcsreport1.pdf', 'total_pages': 336, 'page': 0, 'page_label': '1'}, page_content='Integrated Annual Report 2024-25\\n2024-25\\nIntegrated Annual Report')"
      ]
     },
     "execution_count": 4,
     "metadata": {},
     "output_type": "execute_result"
    }
   ],
   "source": [
    "documents[0]"
   ]
  },
  {
   "cell_type": "code",
   "execution_count": 5,
   "id": "e6e0d16d-a16c-483b-b935-28c5c65f9534",
   "metadata": {},
   "outputs": [
    {
     "data": {
      "text/plain": [
       "Document(metadata={'producer': 'Adobe PDF Library 17.0', 'creator': 'Adobe InDesign 20.3 (Windows)', 'creationdate': '2025-05-27T23:03:32+05:30', 'moddate': '2025-06-09T17:12:34+00:00', 'subject': 'The TCS’ FY 2024-25 (FY 2025) Integrated Annual Report highlights the rapidly changing world and role of technology in addressing business problems.', 'title': 'TCS Integrated Annual Report 2024-25', 'trapped': '/false', 'source': 'tcsreport1.pdf', 'total_pages': 336, 'page': 1, 'page_label': '2'}, page_content='03 March 1839 – 19 May 1904\\nJamsetji Nusserwanji Tata\\nOur Founder\\nIn a free enterprise, the \\ncommunity is not just another \\nstakeholder in business, but is in \\nfact the very purpose of \\nits existence')"
      ]
     },
     "execution_count": 5,
     "metadata": {},
     "output_type": "execute_result"
    }
   ],
   "source": [
    "documents[1]"
   ]
  },
  {
   "cell_type": "code",
   "execution_count": 6,
   "id": "2ace0389-c8f8-4dba-8a77-9e0fdee2ccdc",
   "metadata": {},
   "outputs": [
    {
     "data": {
      "text/plain": [
       "\"Remembering Mr. T ata\\nPadma Vibhushan\\nRatan N Tata\\n28 December 1937 – 9 October 2024\\nIt is with a profound sense of loss that we bid farewell \\nto Mr . Ratan Naval Tata, a truly uncommon leader \\nwhose immeasurable contributions have shaped \\nnot only the Tata Group but also the very fabric of our \\nnation.\\nFor the Tata Group, Mr . Tata was more than a \\nchairperson. He inspired by example. With an \\nunwavering commitment to excellence, integrity and \\ninnovation, the Tata Group under his stewardship \\nexpanded its global footprint while always remaining \\ntrue to its moral compass.\\nMr . Tata’s dedication to philanthropy and the \\ndevelopment of society has touched the lives of \\nmillions. From education to healthcare, his initiatives \\nhave left a deep-rooted mark that will benefit \\ngenerations to come. Reinforcing all of this work \\nwas Mr . Tata's genuine humility in every individual \\ninteraction. \\nHis legacy will continue to inspire us \\nas we strive to uphold the principles \\nhe so passionately championed.\""
      ]
     },
     "execution_count": 6,
     "metadata": {},
     "output_type": "execute_result"
    }
   ],
   "source": [
    "documents[2].page_content"
   ]
  },
  {
   "cell_type": "code",
   "execution_count": 7,
   "id": "522d7db3-c1c5-46a3-b22a-6c24cb49a453",
   "metadata": {},
   "outputs": [
    {
     "data": {
      "text/plain": [
       "[Document(metadata={'producer': 'Adobe PDF Library 17.0', 'creator': 'Adobe InDesign 20.3 (Windows)', 'creationdate': '2025-05-27T23:03:32+05:30', 'moddate': '2025-06-09T17:12:34+00:00', 'subject': 'The TCS’ FY 2024-25 (FY 2025) Integrated Annual Report highlights the rapidly changing world and role of technology in addressing business problems.', 'title': 'TCS Integrated Annual Report 2024-25', 'trapped': '/false', 'source': 'tcsreport1.pdf', 'total_pages': 336, 'page': 3, 'page_label': '4'}, page_content='Content\\nIntroduction\\nPerformance Review\\nAbout TCS\\nBoard of Directors\\nManagement Team\\nLetter from the Chairman \\nLetter from the CEO\\nThe Year Gone by\\nAwards and Accolades\\n04\\n06\\n07\\n08\\n10\\n12\\n16\\nIntegrated Reporting \\nFramework\\n18\\n20\\n22\\n24\\n26\\n28\\nTCS Integrated Business Model\\nFinancial Capital\\nHuman Capital\\nIntellectual Capital\\nSocial Capital\\nNatural Capital\\nIntegrated Annual Report 2024-25\\nContent\\n 2'),\n",
       " Document(metadata={'producer': 'Adobe PDF Library 17.0', 'creator': 'Adobe InDesign 20.3 (Windows)', 'creationdate': '2025-05-27T23:03:32+05:30', 'moddate': '2025-06-09T17:12:34+00:00', 'subject': 'The TCS’ FY 2024-25 (FY 2025) Integrated Annual Report highlights the rapidly changing world and role of technology in addressing business problems.', 'title': 'TCS Integrated Annual Report 2024-25', 'trapped': '/false', 'source': 'tcsreport1.pdf', 'total_pages': 336, 'page': 4, 'page_label': '5'}, page_content=\"39\\n41\\n67\\n79\\n95\\n115\\n127\\nStatutory Section\\nShareholder Connect\\nNotice\\nBoard's Report\\nManagement Discussion and Analysis\\nCorporate Governance Report\\nCorporate Social Responsibility\\nBusiness Responsibility and Sustainability Report\\n169\\n178\\n179\\n180\\n182\\n184\\n239\\n250\\n251\\n252\\n254\\n256\\n306\\n319\\n322\\n323\\n309\\nStandalone Financial Statements\\nIndependent Auditor’s Report\\nStandalone Balance Sheet\\nStandalone Statement of Profit and Loss\\nStandalone Statement of Changes in Equity\\nStandalone Statement of Cash Flows\\nNotes forming part of the Standalone Financial \\nStatements\\nStatement under section 129 of the Companies Act, \\n2013 relating to Subsidiary Companies\\nGlossary\\nStakeholder Engagement and Identification of \\nMaterial Topics\\nScope 3 Baseline Restatement (FY 2020)\\nGRI Content Index\\nSustainability Disclosures\\nIndependent Auditor’s Report\\nConsolidated Balance Sheet \\nConsolidated Statement of Profit and Loss\\nConsolidated Statement of Changes in Equity\\nConsolidated Statement of Cash Flows\\nNotes forming part of the Consolidated\\nFinancial Statements\\nConsolidated Financial Statements\\nCustomer\\nStories\\n30\\nTCS’ AI Powered Drug Design Enables \\nPharma’s Fight Against Cancer\\n31\\nRevolutionizing Employee Experience \\nwith GenAl  \\nTransforming Telecommunications \\nwith GenAI\\n32\\nDigital Transformation of Electoral Roll \\nManagement in India \\n33\\nA Journey Towards Becoming the Most \\nTrusted Advisor\\n34\\nAI - The Game Changer for Logistics and \\nSupply Chain\\nTransforming Airline Operations with an \\nAI-equipped, Unified Data Platform\\n35\\nOne step closer to a Net-Zero Grid\\n36\\nGenAI Revolutionizing Media Content \\nAnalysis \\nRe-imagining Banking with AI\\n37\\nEmpowering Education: The British \\nCouncil Business Transformation \\n38\\nCentralizing Custodial Operations with \\nTCS BaNCSTM\\nGlossary\\nIntegrated Annual Report 2024-25\\nContent\\n3\"),\n",
       " Document(metadata={'producer': 'Adobe PDF Library 17.0', 'creator': 'Adobe InDesign 20.3 (Windows)', 'creationdate': '2025-05-27T23:03:32+05:30', 'moddate': '2025-06-09T17:12:34+00:00', 'subject': 'The TCS’ FY 2024-25 (FY 2025) Integrated Annual Report highlights the rapidly changing world and role of technology in addressing business problems.', 'title': 'TCS Integrated Annual Report 2024-25', 'trapped': '/false', 'source': 'tcsreport1.pdf', 'total_pages': 336, 'page': 5, 'page_label': '6'}, page_content='Tata Consultancy Services (TCS) is a digital transformation and \\ntechnology partner of choice for industry-leading organizations \\nworldwide. Since its inception in 1968, TCS has upheld the \\nhighest standards of innovation, engineering excellence and \\ncustomer service.\\nRooted in the heritage of the Tata Group, TCS is focused \\non creating long term value for its clients, its investors, its \\nassociates, and the community at large. With a highly skilled \\nworkforce of over 607,000 associates in 55 countries and over \\n200 service delivery centres across the world, the company has \\nbeen recognized as a top employer in six continents. With the \\nability to rapidly apply and scale new technologies, the company \\nAbout TCS\\nOur global presence \\nhas built long term partnerships with its clients – helping them \\nemerge as perpetually adaptive enterprises. Many of these \\nrelationships have endured into decades and navigated every \\ntechnology cycle, from mainframes in the 1970s to Artificial \\nIntelligence today.\\nTCS sponsors 14 of the world’s most prestigious marathons and \\nendurance events, including the TCS New York City Marathon, \\nTCS London Marathon and TCS Sydney Marathon with a focus on \\npromoting health, sustainability, and community empowerment. \\nTCS generated consolidated revenues of US $30 billion in the \\nfiscal year ended March 31, 2025.  For more information, visit \\nwww.tcs.com\\n6 continents. 152 nationalities. 607,000+ associates \\nNorth America    Latin America    Europe    UK & Ireland    India    Asia Pacific    Australia & New Zealand    Middle East & Africa    Japan\\nArgentina\\nAustralia\\nAustria\\nBahrain\\nBelgium\\nBrazil\\nBulgaria\\nCanada\\nChile\\nChina\\nColombia\\nCzech Republic\\nDenmark\\nEcuador\\nEstonia\\nFinland\\nFrance\\nGermany\\nGuatemala\\nHong Kong\\nHungary\\nIndia\\nIndonesia\\nIsrael\\nItaly\\nJapan\\nKuwait\\nLuxembourg\\nMalaysia\\nMexico\\nNetherlands\\nNew Zealand\\nNorway\\nOman\\nPeru\\nPhilippines\\nPoland\\nPortugal\\nQatar\\nRomania\\nSaudi Arabia\\nSingapore\\nSlovakia\\nSouth Africa\\nSouth Korea\\nSpain\\nSweden\\nSwitzerland\\nT aiwan\\nThailand\\nUnited Arab Emirates (UAE)\\nUnited Kingdom (UK) & Ireland\\nUruguay\\nUSA\\n42\\n20\\n87\\n2\\n8\\n8\\nSouth\\nAtlantic\\nOcean\\nIndian\\nOcean\\nRussia\\nFinlandSweden\\nNorway\\nUnited\\nKingdom\\nGermanyPoland\\n13\\n17\\n2\\nAlgeria\\nMali Chad\\nNigeria\\nLibya\\n2\\nEgpt\\nSudan\\nEthiopia\\nDRC\\nAngola\\nTanzania\\nKenya\\nNamibia\\nBotswana\\nSouth\\nAfrica\\nMadagascar\\nIndia\\nIran\\nPakistan\\nSaudi Arabia\\nKazakistan\\nIraq\\nTurneyTurney\\nAfghanistan\\nCanada\\nGreenland\\nUSA\\nNorth\\nPacific\\nOcean\\nSouth\\nPacific\\nOcean\\nNorth\\nAtlantic\\nOcean\\nVenezuela\\nColombia\\nPeru Brazil\\nChile\\nArgentina\\nMexico\\n2\\n3\\n 4\\n9\\n8\\n2\\n3\\n3\\n 4\\n14\\nNote: The above map is not to scale and is for illustrative purposes only.\\nAbout TCS\\nIntegrated Annual Report 2024-25 4')]"
      ]
     },
     "execution_count": 7,
     "metadata": {},
     "output_type": "execute_result"
    }
   ],
   "source": [
    "documents[3:6]"
   ]
  },
  {
   "cell_type": "code",
   "execution_count": 8,
   "id": "c3d31182-d73a-490c-8bfb-996bdf8832d4",
   "metadata": {},
   "outputs": [
    {
     "data": {
      "text/plain": [
       "1011"
      ]
     },
     "execution_count": 8,
     "metadata": {},
     "output_type": "execute_result"
    }
   ],
   "source": [
    "len(documents[2].page_content)"
   ]
  },
  {
   "cell_type": "code",
   "execution_count": 10,
   "id": "93ea5fe6-8db5-4579-8bb5-4d97ea08a781",
   "metadata": {},
   "outputs": [
    {
     "name": "stdout",
     "output_type": "stream",
     "text": [
      "Remembering\n",
      "Mr.\n",
      "T\n",
      "ata\n",
      "Padma\n",
      "Vibhushan\n",
      "Ratan\n",
      "N\n",
      "Tata\n",
      "28\n",
      "December\n",
      "1937\n",
      "–\n",
      "9\n",
      "October\n",
      "2024\n",
      "It\n",
      "is\n",
      "with\n",
      "a\n",
      "profound\n",
      "sense\n",
      "of\n",
      "loss\n",
      "that\n",
      "we\n",
      "bid\n",
      "farewell\n",
      "to\n",
      "Mr\n",
      ".\n",
      "Ratan\n",
      "Naval\n",
      "Tata,\n",
      "a\n",
      "truly\n",
      "uncommon\n",
      "leader\n",
      "whose\n",
      "immeasurable\n",
      "contributions\n",
      "have\n",
      "shaped\n",
      "not\n",
      "only\n",
      "the\n",
      "Tata\n",
      "Group\n",
      "but\n",
      "also\n",
      "the\n",
      "very\n",
      "fabric\n",
      "of\n",
      "our\n",
      "nation.\n",
      "For\n",
      "the\n",
      "Tata\n",
      "Group,\n",
      "Mr\n",
      ".\n",
      "Tata\n",
      "was\n",
      "more\n",
      "than\n",
      "a\n",
      "chairperson.\n",
      "He\n",
      "inspired\n",
      "by\n",
      "example.\n",
      "With\n",
      "an\n",
      "unwavering\n",
      "commitment\n",
      "to\n",
      "excellence,\n",
      "integrity\n",
      "and\n",
      "innovation,\n",
      "the\n",
      "Tata\n",
      "Group\n",
      "under\n",
      "his\n",
      "stewardship\n",
      "expanded\n",
      "its\n",
      "global\n",
      "footprint\n",
      "while\n",
      "always\n",
      "remaining\n",
      "true\n",
      "to\n",
      "its\n",
      "moral\n",
      "compass.\n",
      "Mr\n",
      ".\n",
      "Tata’s\n",
      "dedication\n",
      "to\n",
      "philanthropy\n",
      "and\n",
      "the\n",
      "development\n",
      "of\n",
      "society\n",
      "has\n",
      "touched\n",
      "the\n",
      "lives\n",
      "of\n",
      "millions.\n",
      "From\n",
      "education\n",
      "to\n",
      "healthcare,\n",
      "his\n",
      "initiatives\n",
      "have\n",
      "left\n",
      "a\n",
      "deep-rooted\n",
      "mark\n",
      "that\n",
      "will\n",
      "benefit\n",
      "generations\n",
      "to\n",
      "come.\n",
      "Reinforcing\n",
      "all\n",
      "of\n",
      "this\n",
      "work\n",
      "was\n",
      "Mr\n",
      ".\n",
      "Tata's\n",
      "genuine\n",
      "humility\n",
      "in\n",
      "every\n",
      "individual\n",
      "interaction.\n",
      "His\n",
      "legacy\n",
      "will\n",
      "continue\n",
      "to\n",
      "inspire\n",
      "us\n",
      "as\n",
      "we\n",
      "strive\n",
      "to\n",
      "uphold\n",
      "the\n",
      "principles\n",
      "he\n",
      "so\n",
      "passionately\n",
      "championed.\n"
     ]
    }
   ],
   "source": [
    "words=documents[2].page_content.split()\n",
    "for i in words:\n",
    "    print(i)"
   ]
  },
  {
   "cell_type": "markdown",
   "id": "2dcad64f-cc3b-4c7b-b1b7-f9c5c7fb8128",
   "metadata": {},
   "source": [
    "# step 2: split into chunks"
   ]
  },
  {
   "cell_type": "code",
   "execution_count": 11,
   "id": "08c73644-ccc5-4beb-aeb2-eaf040854f2a",
   "metadata": {},
   "outputs": [],
   "source": [
    "from langchain_text_splitters import RecursiveCharacterTextSplitter"
   ]
  },
  {
   "cell_type": "code",
   "execution_count": 12,
   "id": "e4193fde-1d84-45c8-ab17-f3c00688e454",
   "metadata": {},
   "outputs": [],
   "source": [
    "text_splitter = RecursiveCharacterTextSplitter(\n",
    "    # Set a really small chunk size, just to show.\n",
    "    chunk_size=2500,\n",
    "    chunk_overlap=500)"
   ]
  },
  {
   "cell_type": "code",
   "execution_count": 13,
   "id": "90b26610-97c5-4e5a-90bc-14bd5e7f6c8d",
   "metadata": {},
   "outputs": [
    {
     "data": {
      "text/plain": [
       "<langchain_text_splitters.character.RecursiveCharacterTextSplitter at 0x1db78dfdfd0>"
      ]
     },
     "execution_count": 13,
     "metadata": {},
     "output_type": "execute_result"
    }
   ],
   "source": [
    "text_splitter"
   ]
  },
  {
   "cell_type": "code",
   "execution_count": 14,
   "id": "ee214e42-f210-4555-b693-ed896532aa82",
   "metadata": {},
   "outputs": [],
   "source": [
    "# lets load chunks\n",
    "mychunks=text_splitter.split_documents(documents)"
   ]
  },
  {
   "cell_type": "code",
   "execution_count": 16,
   "id": "ef2bd518-ffd2-4a2b-bcbe-b6b64532ec69",
   "metadata": {},
   "outputs": [
    {
     "data": {
      "text/plain": [
       "list"
      ]
     },
     "execution_count": 16,
     "metadata": {},
     "output_type": "execute_result"
    }
   ],
   "source": [
    "type(mychunks)"
   ]
  },
  {
   "cell_type": "code",
   "execution_count": 17,
   "id": "c0717c4c-8dce-44a4-9e0e-46cb4c0663a2",
   "metadata": {},
   "outputs": [
    {
     "data": {
      "text/plain": [
       "Document(metadata={'producer': 'Adobe PDF Library 17.0', 'creator': 'Adobe InDesign 20.3 (Windows)', 'creationdate': '2025-05-27T23:03:32+05:30', 'moddate': '2025-06-09T17:12:34+00:00', 'subject': 'The TCS’ FY 2024-25 (FY 2025) Integrated Annual Report highlights the rapidly changing world and role of technology in addressing business problems.', 'title': 'TCS Integrated Annual Report 2024-25', 'trapped': '/false', 'source': 'tcsreport1.pdf', 'total_pages': 336, 'page': 4, 'page_label': '5'}, page_content=\"39\\n41\\n67\\n79\\n95\\n115\\n127\\nStatutory Section\\nShareholder Connect\\nNotice\\nBoard's Report\\nManagement Discussion and Analysis\\nCorporate Governance Report\\nCorporate Social Responsibility\\nBusiness Responsibility and Sustainability Report\\n169\\n178\\n179\\n180\\n182\\n184\\n239\\n250\\n251\\n252\\n254\\n256\\n306\\n319\\n322\\n323\\n309\\nStandalone Financial Statements\\nIndependent Auditor’s Report\\nStandalone Balance Sheet\\nStandalone Statement of Profit and Loss\\nStandalone Statement of Changes in Equity\\nStandalone Statement of Cash Flows\\nNotes forming part of the Standalone Financial \\nStatements\\nStatement under section 129 of the Companies Act, \\n2013 relating to Subsidiary Companies\\nGlossary\\nStakeholder Engagement and Identification of \\nMaterial Topics\\nScope 3 Baseline Restatement (FY 2020)\\nGRI Content Index\\nSustainability Disclosures\\nIndependent Auditor’s Report\\nConsolidated Balance Sheet \\nConsolidated Statement of Profit and Loss\\nConsolidated Statement of Changes in Equity\\nConsolidated Statement of Cash Flows\\nNotes forming part of the Consolidated\\nFinancial Statements\\nConsolidated Financial Statements\\nCustomer\\nStories\\n30\\nTCS’ AI Powered Drug Design Enables \\nPharma’s Fight Against Cancer\\n31\\nRevolutionizing Employee Experience \\nwith GenAl  \\nTransforming Telecommunications \\nwith GenAI\\n32\\nDigital Transformation of Electoral Roll \\nManagement in India \\n33\\nA Journey Towards Becoming the Most \\nTrusted Advisor\\n34\\nAI - The Game Changer for Logistics and \\nSupply Chain\\nTransforming Airline Operations with an \\nAI-equipped, Unified Data Platform\\n35\\nOne step closer to a Net-Zero Grid\\n36\\nGenAI Revolutionizing Media Content \\nAnalysis \\nRe-imagining Banking with AI\\n37\\nEmpowering Education: The British \\nCouncil Business Transformation \\n38\\nCentralizing Custodial Operations with \\nTCS BaNCSTM\\nGlossary\\nIntegrated Annual Report 2024-25\\nContent\\n3\")"
      ]
     },
     "execution_count": 17,
     "metadata": {},
     "output_type": "execute_result"
    }
   ],
   "source": [
    "mychunks[4]"
   ]
  },
  {
   "cell_type": "markdown",
   "id": "f507dbaf-0523-4cf5-805b-1269cf854e06",
   "metadata": {},
   "source": [
    "# Embedding model"
   ]
  },
  {
   "cell_type": "code",
   "execution_count": 18,
   "id": "d41b7122-404c-42a3-8fe3-c7ab893f416c",
   "metadata": {},
   "outputs": [],
   "source": [
    "# embedding model\n",
    "from sentence_transformers import SentenceTransformer\n",
    "\n"
   ]
  },
  {
   "cell_type": "code",
   "execution_count": 19,
   "id": "3fde2373-e81f-486c-a6af-4ab18d6cdc77",
   "metadata": {},
   "outputs": [
    {
     "data": {
      "application/vnd.jupyter.widget-view+json": {
       "model_id": "d53abaa418d44af8a3474d2c5f9e0010",
       "version_major": 2,
       "version_minor": 0
      },
      "text/plain": [
       "modules.json:   0%|          | 0.00/349 [00:00<?, ?B/s]"
      ]
     },
     "metadata": {},
     "output_type": "display_data"
    },
    {
     "name": "stderr",
     "output_type": "stream",
     "text": [
      "D:\\GenAIProjects\\GenAI\\Lib\\site-packages\\huggingface_hub\\file_download.py:143: UserWarning: `huggingface_hub` cache-system uses symlinks by default to efficiently store duplicated files but your machine does not support them in C:\\Users\\Narasimha murthy\\.cache\\huggingface\\hub\\models--sentence-transformers--all-MiniLM-L6-v2. Caching files will still work but in a degraded version that might require more space on your disk. This warning can be disabled by setting the `HF_HUB_DISABLE_SYMLINKS_WARNING` environment variable. For more details, see https://huggingface.co/docs/huggingface_hub/how-to-cache#limitations.\n",
      "To support symlinks on Windows, you either need to activate Developer Mode or to run Python as an administrator. In order to activate developer mode, see this article: https://docs.microsoft.com/en-us/windows/apps/get-started/enable-your-device-for-development\n",
      "  warnings.warn(message)\n"
     ]
    },
    {
     "data": {
      "application/vnd.jupyter.widget-view+json": {
       "model_id": "b544cdf5bf064ff586d6de563a69f4b1",
       "version_major": 2,
       "version_minor": 0
      },
      "text/plain": [
       "config_sentence_transformers.json:   0%|          | 0.00/116 [00:00<?, ?B/s]"
      ]
     },
     "metadata": {},
     "output_type": "display_data"
    },
    {
     "data": {
      "application/vnd.jupyter.widget-view+json": {
       "model_id": "8f2346581a5b40b8a6a1b9d344f9bd05",
       "version_major": 2,
       "version_minor": 0
      },
      "text/plain": [
       "README.md: 0.00B [00:00, ?B/s]"
      ]
     },
     "metadata": {},
     "output_type": "display_data"
    },
    {
     "data": {
      "application/vnd.jupyter.widget-view+json": {
       "model_id": "1c35be01a745431da8aca7e5c010e6ec",
       "version_major": 2,
       "version_minor": 0
      },
      "text/plain": [
       "sentence_bert_config.json:   0%|          | 0.00/53.0 [00:00<?, ?B/s]"
      ]
     },
     "metadata": {},
     "output_type": "display_data"
    },
    {
     "data": {
      "application/vnd.jupyter.widget-view+json": {
       "model_id": "2d26a9a825ac4dc5a3764ed284361ad9",
       "version_major": 2,
       "version_minor": 0
      },
      "text/plain": [
       "config.json:   0%|          | 0.00/612 [00:00<?, ?B/s]"
      ]
     },
     "metadata": {},
     "output_type": "display_data"
    },
    {
     "name": "stderr",
     "output_type": "stream",
     "text": [
      "Xet Storage is enabled for this repo, but the 'hf_xet' package is not installed. Falling back to regular HTTP download. For better performance, install the package with: `pip install huggingface_hub[hf_xet]` or `pip install hf_xet`\n"
     ]
    },
    {
     "data": {
      "application/vnd.jupyter.widget-view+json": {
       "model_id": "b3566872315a476d8c4db27a947f3455",
       "version_major": 2,
       "version_minor": 0
      },
      "text/plain": [
       "model.safetensors:   0%|          | 0.00/90.9M [00:00<?, ?B/s]"
      ]
     },
     "metadata": {},
     "output_type": "display_data"
    },
    {
     "data": {
      "application/vnd.jupyter.widget-view+json": {
       "model_id": "9f53b300b2be4e64ae5f323d3b09762e",
       "version_major": 2,
       "version_minor": 0
      },
      "text/plain": [
       "tokenizer_config.json:   0%|          | 0.00/350 [00:00<?, ?B/s]"
      ]
     },
     "metadata": {},
     "output_type": "display_data"
    },
    {
     "data": {
      "application/vnd.jupyter.widget-view+json": {
       "model_id": "4563ec6126294f9eb841f0aeaa08c0fb",
       "version_major": 2,
       "version_minor": 0
      },
      "text/plain": [
       "vocab.txt: 0.00B [00:00, ?B/s]"
      ]
     },
     "metadata": {},
     "output_type": "display_data"
    },
    {
     "data": {
      "application/vnd.jupyter.widget-view+json": {
       "model_id": "f1de7d5287084bacb68f1a9fea0c1042",
       "version_major": 2,
       "version_minor": 0
      },
      "text/plain": [
       "tokenizer.json: 0.00B [00:00, ?B/s]"
      ]
     },
     "metadata": {},
     "output_type": "display_data"
    },
    {
     "data": {
      "application/vnd.jupyter.widget-view+json": {
       "model_id": "ae80bd6367ce45a1afb24e67c389902b",
       "version_major": 2,
       "version_minor": 0
      },
      "text/plain": [
       "special_tokens_map.json:   0%|          | 0.00/112 [00:00<?, ?B/s]"
      ]
     },
     "metadata": {},
     "output_type": "display_data"
    },
    {
     "data": {
      "application/vnd.jupyter.widget-view+json": {
       "model_id": "6f042fad7eb24588ad89e22a75b037c3",
       "version_major": 2,
       "version_minor": 0
      },
      "text/plain": [
       "config.json:   0%|          | 0.00/190 [00:00<?, ?B/s]"
      ]
     },
     "metadata": {},
     "output_type": "display_data"
    }
   ],
   "source": [
    "model = SentenceTransformer(\"sentence-transformers/all-MiniLM-L6-v2\")\n",
    "\n"
   ]
  },
  {
   "cell_type": "code",
   "execution_count": 20,
   "id": "f9d4b424-9416-414b-a937-eb6522f048be",
   "metadata": {},
   "outputs": [],
   "source": [
    "sentences = [\n",
    "    \"That is a happy person\",\n",
    "    \"That is a happy dog\",\n",
    "    \"That is a very happy person\",\n",
    "    \"Today is a sunny day\"\n",
    "]\n"
   ]
  },
  {
   "cell_type": "code",
   "execution_count": 21,
   "id": "75e44a01-21c9-4bd2-9560-490d7a4bee07",
   "metadata": {},
   "outputs": [],
   "source": [
    "embeddings = model.encode(sentences)\n",
    "\n"
   ]
  },
  {
   "cell_type": "code",
   "execution_count": 22,
   "id": "809b98af-46c1-4afd-94ef-a3f1c64332b1",
   "metadata": {},
   "outputs": [
    {
     "name": "stdout",
     "output_type": "stream",
     "text": [
      "torch.Size([4, 4])\n"
     ]
    }
   ],
   "source": [
    "similarities = model.similarity(embeddings, embeddings)\n",
    "print(similarities.shape)\n",
    "# [4, 4]"
   ]
  },
  {
   "cell_type": "code",
   "execution_count": 23,
   "id": "4b4a1c31-8598-4191-9801-7933c9d3c8f1",
   "metadata": {},
   "outputs": [
    {
     "data": {
      "text/plain": [
       "tensor([[1.0000, 0.6946, 0.9429, 0.2569],\n",
       "        [0.6946, 1.0000, 0.6211, 0.2491],\n",
       "        [0.9429, 0.6211, 1.0000, 0.2106],\n",
       "        [0.2569, 0.2491, 0.2106, 1.0000]])"
      ]
     },
     "execution_count": 23,
     "metadata": {},
     "output_type": "execute_result"
    }
   ],
   "source": [
    "similarities"
   ]
  },
  {
   "cell_type": "code",
   "execution_count": null,
   "id": "acd17846-016e-49a7-a0c7-8f70e2b78d41",
   "metadata": {},
   "outputs": [],
   "source": []
  }
 ],
 "metadata": {
  "kernelspec": {
   "display_name": "Python 3 (ipykernel)",
   "language": "python",
   "name": "python3"
  },
  "language_info": {
   "codemirror_mode": {
    "name": "ipython",
    "version": 3
   },
   "file_extension": ".py",
   "mimetype": "text/x-python",
   "name": "python",
   "nbconvert_exporter": "python",
   "pygments_lexer": "ipython3",
   "version": "3.13.5"
  }
 },
 "nbformat": 4,
 "nbformat_minor": 5
}
